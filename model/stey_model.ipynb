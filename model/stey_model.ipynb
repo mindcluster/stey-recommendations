{
 "cells": [
  {
   "cell_type": "code",
   "execution_count": 1,
   "id": "pointed-printing",
   "metadata": {},
   "outputs": [],
   "source": [
    "# Import libs\n",
    "import pandas as pd\n",
    "import numpy as np\n",
    "import matplotlib.pyplot as plt     \n",
    "from sklearn.linear_model import LinearRegression\n",
    "from sklearn.metrics import mean_squared_error\n",
    "from sklearn.model_selection import train_test_split\n",
    " \n",
    "%matplotlib inline"
   ]
  },
  {
   "cell_type": "code",
   "execution_count": 2,
   "id": "legislative-combination",
   "metadata": {},
   "outputs": [
    {
     "data": {
      "text/html": [
       "<div>\n",
       "<style scoped>\n",
       "    .dataframe tbody tr th:only-of-type {\n",
       "        vertical-align: middle;\n",
       "    }\n",
       "\n",
       "    .dataframe tbody tr th {\n",
       "        vertical-align: top;\n",
       "    }\n",
       "\n",
       "    .dataframe thead th {\n",
       "        text-align: right;\n",
       "    }\n",
       "</style>\n",
       "<table border=\"1\" class=\"dataframe\">\n",
       "  <thead>\n",
       "    <tr style=\"text-align: right;\">\n",
       "      <th></th>\n",
       "      <th>ID</th>\n",
       "      <th>EMAIL</th>\n",
       "      <th>GPN</th>\n",
       "      <th>NOME</th>\n",
       "      <th>SALARIO_BASE_FY_ATUAL</th>\n",
       "      <th>EMPLOYEE_STATUS</th>\n",
       "      <th>PAIS</th>\n",
       "      <th>GENDER</th>\n",
       "      <th>LOCATION_CITY</th>\n",
       "      <th>SERVICE_LINE</th>\n",
       "      <th>...</th>\n",
       "      <th>LAST_PROMOTION_DATE</th>\n",
       "      <th>UTILIZAÇAO</th>\n",
       "      <th>PROMOÇAO</th>\n",
       "      <th>LEAD_ATUAL</th>\n",
       "      <th>RANK_FUTURO</th>\n",
       "      <th>EXP_LEVEL_FUTURO</th>\n",
       "      <th>ACTUAL</th>\n",
       "      <th>SMUS_ID</th>\n",
       "      <th>JOBS_ID</th>\n",
       "      <th>LEVEL</th>\n",
       "    </tr>\n",
       "  </thead>\n",
       "  <tbody>\n",
       "    <tr>\n",
       "      <th>0</th>\n",
       "      <td>1</td>\n",
       "      <td>BR110101010@ey.com.br</td>\n",
       "      <td>BR110101010</td>\n",
       "      <td>Eric Messina</td>\n",
       "      <td>1000</td>\n",
       "      <td>Active</td>\n",
       "      <td>Brasil</td>\n",
       "      <td>M</td>\n",
       "      <td>São Paulo</td>\n",
       "      <td>Advisory</td>\n",
       "      <td>...</td>\n",
       "      <td>NaN</td>\n",
       "      <td>0.749536</td>\n",
       "      <td>Progression</td>\n",
       "      <td>NaN</td>\n",
       "      <td>44-Staff/Assistant</td>\n",
       "      <td>1</td>\n",
       "      <td>0</td>\n",
       "      <td>6</td>\n",
       "      <td>1</td>\n",
       "      <td>1</td>\n",
       "    </tr>\n",
       "    <tr>\n",
       "      <th>896</th>\n",
       "      <td>897</td>\n",
       "      <td>BR912275330@ey.com.br</td>\n",
       "      <td>BR912275330</td>\n",
       "      <td>Charles Avilla</td>\n",
       "      <td>1000</td>\n",
       "      <td>Active</td>\n",
       "      <td>Brasil</td>\n",
       "      <td>F</td>\n",
       "      <td>São Paulo</td>\n",
       "      <td>Advisory</td>\n",
       "      <td>...</td>\n",
       "      <td>1/21/2020 0:00</td>\n",
       "      <td>0.459560</td>\n",
       "      <td>Progression</td>\n",
       "      <td>NaN</td>\n",
       "      <td>44-Staff/Assistant</td>\n",
       "      <td>1</td>\n",
       "      <td>0</td>\n",
       "      <td>9</td>\n",
       "      <td>1</td>\n",
       "      <td>0</td>\n",
       "    </tr>\n",
       "    <tr>\n",
       "      <th>894</th>\n",
       "      <td>895</td>\n",
       "      <td>BR996841740@ey.com.br</td>\n",
       "      <td>BR996841740</td>\n",
       "      <td>William Nichols</td>\n",
       "      <td>1000</td>\n",
       "      <td>Active</td>\n",
       "      <td>Brasil</td>\n",
       "      <td>F</td>\n",
       "      <td>Belo Horizonte</td>\n",
       "      <td>Advisory</td>\n",
       "      <td>...</td>\n",
       "      <td>3/19/2020 0:00</td>\n",
       "      <td>0.299972</td>\n",
       "      <td>Promotion</td>\n",
       "      <td>Progressing</td>\n",
       "      <td>42-Senior</td>\n",
       "      <td>3</td>\n",
       "      <td>0</td>\n",
       "      <td>4</td>\n",
       "      <td>1</td>\n",
       "      <td>0</td>\n",
       "    </tr>\n",
       "    <tr>\n",
       "      <th>893</th>\n",
       "      <td>894</td>\n",
       "      <td>BR1329653660@ey.com.br</td>\n",
       "      <td>BR1329653660</td>\n",
       "      <td>Marilyn Chiquito</td>\n",
       "      <td>1000</td>\n",
       "      <td>Active</td>\n",
       "      <td>Brasil</td>\n",
       "      <td>F</td>\n",
       "      <td>Curitiba</td>\n",
       "      <td>Advisory</td>\n",
       "      <td>...</td>\n",
       "      <td>4/9/2020 0:00</td>\n",
       "      <td>0.640434</td>\n",
       "      <td>Progression</td>\n",
       "      <td>Progressing</td>\n",
       "      <td>44-Staff/Assistant</td>\n",
       "      <td>3</td>\n",
       "      <td>0</td>\n",
       "      <td>9</td>\n",
       "      <td>1</td>\n",
       "      <td>0</td>\n",
       "    </tr>\n",
       "    <tr>\n",
       "      <th>892</th>\n",
       "      <td>893</td>\n",
       "      <td>BR1019866830@ey.com.br</td>\n",
       "      <td>BR1019866830</td>\n",
       "      <td>Roy Borrero</td>\n",
       "      <td>1000</td>\n",
       "      <td>Active</td>\n",
       "      <td>Brasil</td>\n",
       "      <td>F</td>\n",
       "      <td>Curitiba</td>\n",
       "      <td>Advisory</td>\n",
       "      <td>...</td>\n",
       "      <td>12/14/2020 0:00</td>\n",
       "      <td>0.693005</td>\n",
       "      <td>Progression</td>\n",
       "      <td>Progressing</td>\n",
       "      <td>21-Senior Manager</td>\n",
       "      <td>2</td>\n",
       "      <td>0</td>\n",
       "      <td>7</td>\n",
       "      <td>3</td>\n",
       "      <td>0</td>\n",
       "    </tr>\n",
       "  </tbody>\n",
       "</table>\n",
       "<p>5 rows × 26 columns</p>\n",
       "</div>"
      ],
      "text/plain": [
       "      ID                   EMAIL           GPN              NOME  \\\n",
       "0      1   BR110101010@ey.com.br   BR110101010      Eric Messina   \n",
       "896  897   BR912275330@ey.com.br   BR912275330    Charles Avilla   \n",
       "894  895   BR996841740@ey.com.br   BR996841740   William Nichols   \n",
       "893  894  BR1329653660@ey.com.br  BR1329653660  Marilyn Chiquito   \n",
       "892  893  BR1019866830@ey.com.br  BR1019866830       Roy Borrero   \n",
       "\n",
       "     SALARIO_BASE_FY_ATUAL EMPLOYEE_STATUS    PAIS GENDER   LOCATION_CITY  \\\n",
       "0                     1000          Active  Brasil      M       São Paulo   \n",
       "896                   1000          Active  Brasil      F       São Paulo   \n",
       "894                   1000          Active  Brasil      F  Belo Horizonte   \n",
       "893                   1000          Active  Brasil      F        Curitiba   \n",
       "892                   1000          Active  Brasil      F        Curitiba   \n",
       "\n",
       "    SERVICE_LINE  ... LAST_PROMOTION_DATE UTILIZAÇAO     PROMOÇAO  \\\n",
       "0       Advisory  ...                 NaN   0.749536  Progression   \n",
       "896     Advisory  ...      1/21/2020 0:00   0.459560  Progression   \n",
       "894     Advisory  ...      3/19/2020 0:00   0.299972    Promotion   \n",
       "893     Advisory  ...       4/9/2020 0:00   0.640434  Progression   \n",
       "892     Advisory  ...     12/14/2020 0:00   0.693005  Progression   \n",
       "\n",
       "      LEAD_ATUAL         RANK_FUTURO  EXP_LEVEL_FUTURO ACTUAL  SMUS_ID  \\\n",
       "0            NaN  44-Staff/Assistant                 1      0        6   \n",
       "896          NaN  44-Staff/Assistant                 1      0        9   \n",
       "894  Progressing           42-Senior                 3      0        4   \n",
       "893  Progressing  44-Staff/Assistant                 3      0        9   \n",
       "892  Progressing   21-Senior Manager                 2      0        7   \n",
       "\n",
       "    JOBS_ID LEVEL  \n",
       "0         1     1  \n",
       "896       1     0  \n",
       "894       1     0  \n",
       "893       1     0  \n",
       "892       3     0  \n",
       "\n",
       "[5 rows x 26 columns]"
      ]
     },
     "execution_count": 2,
     "metadata": {},
     "output_type": "execute_result"
    }
   ],
   "source": [
    "# Import data\n",
    "dataframe = pd.read_csv('dados.csv')\n",
    "\n",
    "dataframe.sort_values(by=['SALARIO_BASE_FY_ATUAL'], ascending=False).head(5)"
   ]
  },
  {
   "cell_type": "code",
   "execution_count": 3,
   "id": "thrown-elephant",
   "metadata": {},
   "outputs": [
    {
     "data": {
      "text/plain": [
       "Index(['ID', 'EMAIL', 'GPN', 'NOME', 'SALARIO_BASE_FY_ATUAL',\n",
       "       'EMPLOYEE_STATUS', 'PAIS', 'GENDER', 'LOCATION_CITY', 'SERVICE_LINE',\n",
       "       'SUB_SL', 'RANK_ATUAL', 'EXP_LEV_ATUAL', 'JOB_TITLE', 'HIRING_DATE',\n",
       "       'PROPORCIONAL_HIRING_DATE', 'LAST_PROMOTION_DATE', 'UTILIZAÇAO',\n",
       "       'PROMOÇAO', 'LEAD_ATUAL', 'RANK_FUTURO', 'EXP_LEVEL_FUTURO', 'ACTUAL',\n",
       "       'SMUS_ID', 'JOBS_ID', 'LEVEL'],\n",
       "      dtype='object')"
      ]
     },
     "execution_count": 3,
     "metadata": {},
     "output_type": "execute_result"
    }
   ],
   "source": [
    "dataframe.columns"
   ]
  },
  {
   "cell_type": "markdown",
   "id": "finished-romania",
   "metadata": {},
   "source": [
    "## Analisando os dados\n",
    "Dado alvo: PROMOÇAO"
   ]
  },
  {
   "cell_type": "code",
   "execution_count": 4,
   "id": "prescription-feature",
   "metadata": {
    "scrolled": true
   },
   "outputs": [
    {
     "data": {
      "text/plain": [
       "<AxesSubplot:xlabel='PROMOÇAO', ylabel='EXP_LEV_ATUAL'>"
      ]
     },
     "execution_count": 4,
     "metadata": {},
     "output_type": "execute_result"
    },
    {
     "data": {
      "image/png": "[encoded data removed]",
      "text/plain": [
       "<Figure size 432x288 with 1 Axes>"
      ]
     },
     "metadata": {
      "needs_background": "light"
     },
     "output_type": "display_data"
    }
   ],
   "source": [
    "dataframe.plot.scatter('PROMOÇAO', 'EXP_LEV_ATUAL')"
   ]
  },
  {
   "cell_type": "code",
   "execution_count": 7,
   "id": "proprietary-calcium",
   "metadata": {},
   "outputs": [
    {
     "data": {
      "image/png": "[encoded data removed]",
      "text/plain": [
       "<Figure size 432x288 with 1 Axes>"
      ]
     },
     "metadata": {
      "needs_background": "light"
     },
     "output_type": "display_data"
    }
   ],
   "source": [
    "import seaborn as sns\n",
    "\n",
    "sns.boxplot(x='EXP_LEV_ATUAL', y='PROMOÇAO', data=dataframe)\n",
    "plt.show()"
   ]
  },
  {
   "cell_type": "code",
   "execution_count": 10,
   "id": "surprising-sodium",
   "metadata": {},
   "outputs": [
    {
     "data": {
      "image/png": "[encoded data removed]",
      "text/plain": [
       "<Figure size 432x288 with 1 Axes>"
      ]
     },
     "metadata": {
      "needs_background": "light"
     },
     "output_type": "display_data"
    }
   ],
   "source": [
    "import seaborn as sns\n",
    "\n",
    "sns.boxplot(x='EXP_LEVEL_FUTURO', y='PROMOÇAO', data=dataframe)\n",
    "plt.show()"
   ]
  },
  {
   "cell_type": "code",
   "execution_count": 11,
   "id": "exposed-rachel",
   "metadata": {},
   "outputs": [
    {
     "data": {
      "text/plain": [
       "ID                            0\n",
       "EMAIL                         0\n",
       "GPN                           0\n",
       "NOME                          0\n",
       "SALARIO_BASE_FY_ATUAL         0\n",
       "EMPLOYEE_STATUS               0\n",
       "PAIS                          0\n",
       "GENDER                        0\n",
       "LOCATION_CITY                 0\n",
       "SERVICE_LINE                  0\n",
       "SUB_SL                        0\n",
       "RANK_ATUAL                    0\n",
       "EXP_LEV_ATUAL                 0\n",
       "JOB_TITLE                     0\n",
       "HIRING_DATE                   0\n",
       "PROPORCIONAL_HIRING_DATE      0\n",
       "LAST_PROMOTION_DATE           1\n",
       "UTILIZAÇAO                    0\n",
       "PROMOÇAO                      0\n",
       "LEAD_ATUAL                  228\n",
       "RANK_FUTURO                   0\n",
       "EXP_LEVEL_FUTURO              0\n",
       "ACTUAL                        0\n",
       "SMUS_ID                       0\n",
       "JOBS_ID                       0\n",
       "LEVEL                         0\n",
       "dtype: int64"
      ]
     },
     "execution_count": 11,
     "metadata": {},
     "output_type": "execute_result"
    }
   ],
   "source": [
    "dataframe.isnull().sum()"
   ]
  },
  {
   "cell_type": "markdown",
   "id": "hungry-effect",
   "metadata": {},
   "source": [
    "## Limpando os dados"
   ]
  },
  {
   "cell_type": "code",
   "execution_count": 12,
   "id": "auburn-flexibility",
   "metadata": {},
   "outputs": [
    {
     "data": {
      "text/plain": [
       "ID                          0\n",
       "EMAIL                       0\n",
       "GPN                         0\n",
       "NOME                        0\n",
       "SALARIO_BASE_FY_ATUAL       0\n",
       "EMPLOYEE_STATUS             0\n",
       "PAIS                        0\n",
       "GENDER                      0\n",
       "LOCATION_CITY               0\n",
       "SERVICE_LINE                0\n",
       "SUB_SL                      0\n",
       "RANK_ATUAL                  0\n",
       "EXP_LEV_ATUAL               0\n",
       "JOB_TITLE                   0\n",
       "HIRING_DATE                 0\n",
       "PROPORCIONAL_HIRING_DATE    0\n",
       "LAST_PROMOTION_DATE         0\n",
       "UTILIZAÇAO                  0\n",
       "PROMOÇAO                    0\n",
       "LEAD_ATUAL                  0\n",
       "RANK_FUTURO                 0\n",
       "EXP_LEVEL_FUTURO            0\n",
       "ACTUAL                      0\n",
       "SMUS_ID                     0\n",
       "JOBS_ID                     0\n",
       "LEVEL                       0\n",
       "dtype: int64"
      ]
     },
     "execution_count": 12,
     "metadata": {},
     "output_type": "execute_result"
    }
   ],
   "source": [
    "dataframe['LEAD_ATUAL'].fillna(0, inplace=True)\n",
    "dataframe['LAST_PROMOTION_DATE'].fillna(0, inplace=True)\n",
    "dataframe.isnull().sum()"
   ]
  },
  {
   "cell_type": "markdown",
   "id": "varied-generic",
   "metadata": {},
   "source": [
    "## Separando os Dados\n",
    "Criando um dataframe apenas com as colunas que serão utilizadas na análise"
   ]
  },
  {
   "cell_type": "code",
   "execution_count": 13,
   "id": "swiss-footage",
   "metadata": {},
   "outputs": [],
   "source": [
    "from sklearn.preprocessing import LabelEncoder\n",
    "from sklearn.preprocessing import MinMaxScaler\n",
    "\n",
    "\n",
    "inputs = dataframe.drop(['PROMOÇAO'], axis=1)\n",
    "outputs = dataframe['PROMOÇAO']\n",
    "\n",
    "# Cleaning Outputs\n",
    "labelEncoderPromocao = LabelEncoder()\n",
    "outputs = labelEncoderPromocao.fit_transform(outputs)\n",
    "\n",
    "# Cleaning Inputs\n",
    "scaler = MinMaxScaler(feature_range=(0,1))\n",
    "\n",
    "labelEncoderGender = LabelEncoder()\n",
    "inputs['GENDER'] = labelEncoderGender.fit_transform(inputs['GENDER'])\n",
    "\n",
    "labelEncoderSubSl = LabelEncoder()\n",
    "inputs['SUB_SL'] = labelEncoderSubSl.fit_transform(inputs['SUB_SL'])"
   ]
  },
  {
   "cell_type": "markdown",
   "id": "aquatic-tamil",
   "metadata": {},
   "source": [
    "Create function to transform data"
   ]
  },
  {
   "cell_type": "code",
   "execution_count": 14,
   "id": "canadian-pressure",
   "metadata": {},
   "outputs": [],
   "source": [
    "cols = ['EXP_LEV_ATUAL', 'PROPORCIONAL_HIRING_DATE', 'EXP_LEVEL_FUTURO', 'GENDER', 'SUB_SL']\n",
    "\n",
    "def transform_dataframe(df):\n",
    "    df['GENDER'] = labelEncoderGender.transform(df['GENDER'])\n",
    "    df['SUB_SL'] = labelEncoderSubSl.transform(df['SUB_SL'])\n",
    "\n",
    "    return df"
   ]
  },
  {
   "cell_type": "markdown",
   "id": "functional-sending",
   "metadata": {},
   "source": [
    "## Spliting Data\n",
    "Splint data in X and Y variables"
   ]
  },
  {
   "cell_type": "code",
   "execution_count": 15,
   "id": "laden-better",
   "metadata": {},
   "outputs": [],
   "source": [
    "X = inputs[cols]\n",
    "Y = outputs"
   ]
  },
  {
   "cell_type": "markdown",
   "id": "supported-cornell",
   "metadata": {},
   "source": [
    "### Linear Regression"
   ]
  },
  {
   "cell_type": "code",
   "execution_count": 16,
   "id": "fiscal-confirmation",
   "metadata": {},
   "outputs": [
    {
     "name": "stdout",
     "output_type": "stream",
     "text": [
      "Accuracy of Linear Regression classifier on training set: 0.08\n",
      "Accuracy of Linear Regression classifier on test set: 0.02\n"
     ]
    }
   ],
   "source": [
    "X_train, X_test, y_train, y_test = train_test_split(X, Y, test_size=0.3)\n",
    "\n",
    "# Cria o modelo de regressão \n",
    "lin_model = LinearRegression()\n",
    "\n",
    "# Cria o modelo de machine learning\n",
    "lin_model.fit(X_train, y_train)\n",
    "\n",
    "print('Accuracy of Linear Regression classifier on training set: {:.2f}'\n",
    "     .format(lin_model.score(X_train, y_train)))\n",
    "print('Accuracy of Linear Regression classifier on test set: {:.2f}'\n",
    "     .format(lin_model.score(X_test, y_test)))"
   ]
  },
  {
   "cell_type": "markdown",
   "id": "public-integer",
   "metadata": {},
   "source": [
    "### Logistic Regression"
   ]
  },
  {
   "cell_type": "code",
   "execution_count": 17,
   "id": "generous-scroll",
   "metadata": {},
   "outputs": [
    {
     "name": "stdout",
     "output_type": "stream",
     "text": [
      "Accuracy of Logistic regression classifier on training set: 0.69\n",
      "Accuracy of Logistic regression classifier on test set: 0.68\n"
     ]
    }
   ],
   "source": [
    "from sklearn.model_selection import train_test_split\n",
    "from sklearn.preprocessing import MinMaxScaler\n",
    "from sklearn.linear_model import LogisticRegression\n",
    "\n",
    "X_train, X_test, y_train, y_test = train_test_split(X, Y, random_state=0)\n",
    "\n",
    "scaler = MinMaxScaler()\n",
    "\n",
    "X_train = scaler.fit_transform(X_train)\n",
    "X_test = scaler.transform(X_test)\n",
    "\n",
    "logreg = LogisticRegression()\n",
    "logreg.fit(X_train, y_train)\n",
    "\n",
    "print('Accuracy of Logistic regression classifier on training set: {:.2f}'\n",
    "     .format(logreg.score(X_train, y_train)))\n",
    "print('Accuracy of Logistic regression classifier on test set: {:.2f}'\n",
    "     .format(logreg.score(X_test, y_test)))"
   ]
  },
  {
   "cell_type": "markdown",
   "id": "given-market",
   "metadata": {},
   "source": [
    "### Gaussian Naive Bayes"
   ]
  },
  {
   "cell_type": "code",
   "execution_count": 18,
   "id": "smart-authorization",
   "metadata": {},
   "outputs": [
    {
     "name": "stdout",
     "output_type": "stream",
     "text": [
      "Accuracy of GNB classifier on training set: 0.27\n",
      "Accuracy of GNB classifier on test set: 0.27\n"
     ]
    }
   ],
   "source": [
    "from sklearn.naive_bayes import GaussianNB\n",
    "\n",
    "gnb = GaussianNB()\n",
    "\n",
    "gnb.fit(X_train, y_train)\n",
    "\n",
    "print('Accuracy of GNB classifier on training set: {:.2f}'\n",
    "     .format(gnb.score(X_train, y_train)))\n",
    "print('Accuracy of GNB classifier on test set: {:.2f}'\n",
    "     .format(gnb.score(X_test, y_test)))"
   ]
  },
  {
   "cell_type": "markdown",
   "id": "gorgeous-bulgaria",
   "metadata": {},
   "source": [
    "### Gráfico"
   ]
  },
  {
   "cell_type": "code",
   "execution_count": null,
   "id": "japanese-relief",
   "metadata": {},
   "outputs": [],
   "source": []
  },
  {
   "cell_type": "markdown",
   "id": "nonprofit-darkness",
   "metadata": {},
   "source": [
    "## Testing - Predict \"Promoção\""
   ]
  },
  {
   "cell_type": "code",
   "execution_count": 19,
   "id": "rolled-scott",
   "metadata": {},
   "outputs": [
    {
     "name": "stdout",
     "output_type": "stream",
     "text": [
      "Predict Linear Regression: 1.6091183118620194\n",
      "Predict Logistic Regression: ['Promotion']\n",
      "Predict Gaussian Naive Bayes: ['Progression']\n"
     ]
    }
   ],
   "source": [
    "df_apt_test = pd.DataFrame(np.array([ [0.833333, 1, 0, 'M', 'Risk'] ]), columns=cols)\n",
    "df_apt_test_cleaned = transform_dataframe(df_apt_test)\n",
    "\n",
    "y_predict_lin_model = lin_model.predict(df_apt_test_cleaned)\n",
    "print(f\"Predict Linear Regression: {y_predict_lin_model[0]}\") # I's impossible to convert\n",
    "\n",
    "y_predict_logreg = logreg.predict(df_apt_test_cleaned)\n",
    "print(f\"Predict Logistic Regression: {labelEncoderPromocao.inverse_transform([y_predict_logreg[0]])}\")\n",
    "\n",
    "y_predict_gnb = gnb.predict(df_apt_test_cleaned)\n",
    "print(f\"Predict Gaussian Naive Bayes: {labelEncoderPromocao.inverse_transform([y_predict_gnb[0]])}\")"
   ]
  },
  {
   "cell_type": "code",
   "execution_count": null,
   "id": "behavioral-solomon",
   "metadata": {},
   "outputs": [],
   "source": []
  },
  {
   "cell_type": "code",
   "execution_count": null,
   "id": "bridal-rebound",
   "metadata": {},
   "outputs": [],
   "source": []
  },
  {
   "cell_type": "code",
   "execution_count": null,
   "id": "cleared-newsletter",
   "metadata": {},
   "outputs": [],
   "source": []
  },
  {
   "cell_type": "code",
   "execution_count": null,
   "id": "combined-haiti",
   "metadata": {},
   "outputs": [],
   "source": []
  }
 ],
 "metadata": {
  "kernelspec": {
   "display_name": "Python 3",
   "language": "python",
   "name": "python3"
  },
  "language_info": {
   "codemirror_mode": {
    "name": "ipython",
    "version": 3
   },
   "file_extension": ".py",
   "mimetype": "text/x-python",
   "name": "python",
   "nbconvert_exporter": "python",
   "pygments_lexer": "ipython3",
   "version": "3.7.0"
  }
 },
 "nbformat": 4,
 "nbformat_minor": 5
}
